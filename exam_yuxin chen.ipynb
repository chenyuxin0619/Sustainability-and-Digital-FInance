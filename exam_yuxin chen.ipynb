{
 "cells": [
  {
   "cell_type": "code",
   "execution_count": 86,
   "id": "5b469e64",
   "metadata": {},
   "outputs": [],
   "source": [
    "import numpy as np\n",
    "import matplotlib.pyplot as plt\n",
    "import pandas as pd\n",
    "import yfinance as yf\n",
    "import scipy.stats as si"
   ]
  },
  {
   "cell_type": "code",
   "execution_count": 117,
   "id": "611891ce",
   "metadata": {},
   "outputs": [
    {
     "name": "stdout",
     "output_type": "stream",
     "text": [
      "[*********************100%%**********************]  1 of 1 completed\n",
      "                 Open       High        Low      Close  Adj Close     Volume\n",
      "Date                                                                        \n",
      "2015-01-01  27.860001  28.700001  26.320000  26.370001  19.908741  659832000\n",
      "2015-02-01  26.389999  29.990000  25.920000  29.510000  22.432575  614928400\n",
      "2015-03-01  29.360001  30.309999  26.620001  27.530001  20.927444  630441700\n",
      "2015-04-01  27.309999  29.330000  26.840000  28.830000  22.083384  489815600\n",
      "2015-05-01  28.809999  29.900000  28.690001  29.309999  22.451056  515367400\n"
     ]
    }
   ],
   "source": [
    "#QUESTION 1\n",
    "# Step 1: Download Monthly Stock Price Data\n",
    "# Define the stock ticker for Cisco Systems Inc.\n",
    "ticker = 'CSCO'\n",
    "\n",
    "# Set the start and end dates for the period we want to get data for\n",
    "start_date = '2015-01-01'\n",
    "end_date = '2019-12-31'\n",
    "\n",
    "# Download the stock price data from Yahoo Finance\n",
    "# We use the `period` parameter to specify monthly data ('1mo')\n",
    "csco_stock_data = yf.download(ticker, start=start_date, end=end_date, interval='1mo')\n",
    "\n",
    "# Display the first few rows of the dataframe\n",
    "print(csco_stock_data.head())"
   ]
  },
  {
   "cell_type": "code",
   "execution_count": 118,
   "id": "a0f2e4ad",
   "metadata": {},
   "outputs": [
    {
     "name": "stdout",
     "output_type": "stream",
     "text": [
      "The annualised return is: 15.36%\n"
     ]
    }
   ],
   "source": [
    "# Calculate the monthly logarithmic returns\n",
    "csco_stock_data['Log_Returns'] = np.log(csco_stock_data['Adj Close'] / csco_stock_data['Adj Close'].shift(1))\n",
    "\n",
    "# Calculate the annualised return\n",
    "# There are approximately 12 trading months in a year\n",
    "annualised_return = csco_stock_data['Log_Returns'].mean() * 12\n",
    "\n",
    "print(f\"The annualised return is: {annualised_return * 100:.2f}%\")\n"
   ]
  },
  {
   "cell_type": "code",
   "execution_count": 119,
   "id": "4e3709d6",
   "metadata": {},
   "outputs": [
    {
     "name": "stdout",
     "output_type": "stream",
     "text": [
      "The annualised volatility is: 21.85%\n"
     ]
    }
   ],
   "source": [
    "# Calculate the annualised volatility\n",
    "# The standard deviation of log returns is the volatility\n",
    "# We annualise it by multiplying by the square root of the number of trading months\n",
    "annualised_volatility = csco_stock_data['Log_Returns'].std() * np.sqrt(12)\n",
    "\n",
    "print(f\"The annualised volatility is: {annualised_volatility * 100:.2f}%\")"
   ]
  },
  {
   "cell_type": "code",
   "execution_count": 134,
   "id": "60a086eb",
   "metadata": {},
   "outputs": [
    {
     "name": "stdout",
     "output_type": "stream",
     "text": [
      "Requirement already satisfied: yesg in ./anaconda3/lib/python3.11/site-packages (2.1.1)\n",
      "Note: you may need to restart the kernel to use updated packages.\n"
     ]
    }
   ],
   "source": [
    "pip install yesg"
   ]
  },
  {
   "cell_type": "code",
   "execution_count": 135,
   "id": "37390cda",
   "metadata": {},
   "outputs": [],
   "source": [
    "import yesg"
   ]
  },
  {
   "cell_type": "code",
   "execution_count": 130,
   "id": "9db657cb",
   "metadata": {},
   "outputs": [
    {
     "name": "stdout",
     "output_type": "stream",
     "text": [
      "Collecting meteostat\n",
      "  Obtaining dependency information for meteostat from https://files.pythonhosted.org/packages/23/93/0d277de2b38238072b850e33fbd94e230951f2e5d7ac140ae221a05215b0/meteostat-1.6.7-py3-none-any.whl.metadata\n",
      "  Downloading meteostat-1.6.7-py3-none-any.whl.metadata (4.6 kB)\n",
      "Requirement already satisfied: pandas>=1.1 in ./anaconda3/lib/python3.11/site-packages (from meteostat) (2.0.3)\n",
      "Requirement already satisfied: pytz in ./anaconda3/lib/python3.11/site-packages (from meteostat) (2023.3.post1)\n",
      "Requirement already satisfied: numpy in ./anaconda3/lib/python3.11/site-packages (from meteostat) (1.24.3)\n",
      "Requirement already satisfied: python-dateutil>=2.8.2 in ./anaconda3/lib/python3.11/site-packages (from pandas>=1.1->meteostat) (2.8.2)\n",
      "Requirement already satisfied: tzdata>=2022.1 in ./anaconda3/lib/python3.11/site-packages (from pandas>=1.1->meteostat) (2023.3)\n",
      "Requirement already satisfied: six>=1.5 in ./anaconda3/lib/python3.11/site-packages (from python-dateutil>=2.8.2->pandas>=1.1->meteostat) (1.16.0)\n",
      "Downloading meteostat-1.6.7-py3-none-any.whl (31 kB)\n",
      "Installing collected packages: meteostat\n",
      "Successfully installed meteostat-1.6.7\n",
      "Note: you may need to restart the kernel to use updated packages.\n"
     ]
    }
   ],
   "source": [
    "pip install meteostat"
   ]
  },
  {
   "cell_type": "code",
   "execution_count": 140,
   "id": "a0c9b969",
   "metadata": {
    "scrolled": true
   },
   "outputs": [
    {
     "data": {
      "text/html": [
       "<div>\n",
       "<style scoped>\n",
       "    .dataframe tbody tr th:only-of-type {\n",
       "        vertical-align: middle;\n",
       "    }\n",
       "\n",
       "    .dataframe tbody tr th {\n",
       "        vertical-align: top;\n",
       "    }\n",
       "\n",
       "    .dataframe thead th {\n",
       "        text-align: right;\n",
       "    }\n",
       "</style>\n",
       "<table border=\"1\" class=\"dataframe\">\n",
       "  <thead>\n",
       "    <tr style=\"text-align: right;\">\n",
       "      <th></th>\n",
       "      <th>Total-Score</th>\n",
       "      <th>E-Score</th>\n",
       "      <th>S-Score</th>\n",
       "      <th>G-Score</th>\n",
       "    </tr>\n",
       "    <tr>\n",
       "      <th>Date</th>\n",
       "      <th></th>\n",
       "      <th></th>\n",
       "      <th></th>\n",
       "      <th></th>\n",
       "    </tr>\n",
       "  </thead>\n",
       "  <tbody>\n",
       "    <tr>\n",
       "      <th>2014-09-01</th>\n",
       "      <td>80.00</td>\n",
       "      <td>86.00</td>\n",
       "      <td>79.00</td>\n",
       "      <td>72.00</td>\n",
       "    </tr>\n",
       "    <tr>\n",
       "      <th>2014-10-01</th>\n",
       "      <td>78.00</td>\n",
       "      <td>86.00</td>\n",
       "      <td>79.00</td>\n",
       "      <td>72.00</td>\n",
       "    </tr>\n",
       "    <tr>\n",
       "      <th>2014-11-01</th>\n",
       "      <td>80.00</td>\n",
       "      <td>86.00</td>\n",
       "      <td>79.00</td>\n",
       "      <td>72.00</td>\n",
       "    </tr>\n",
       "    <tr>\n",
       "      <th>2014-12-01</th>\n",
       "      <td>80.00</td>\n",
       "      <td>86.00</td>\n",
       "      <td>79.00</td>\n",
       "      <td>72.00</td>\n",
       "    </tr>\n",
       "    <tr>\n",
       "      <th>2015-01-01</th>\n",
       "      <td>80.00</td>\n",
       "      <td>86.00</td>\n",
       "      <td>79.00</td>\n",
       "      <td>72.00</td>\n",
       "    </tr>\n",
       "    <tr>\n",
       "      <th>...</th>\n",
       "      <td>...</td>\n",
       "      <td>...</td>\n",
       "      <td>...</td>\n",
       "      <td>...</td>\n",
       "    </tr>\n",
       "    <tr>\n",
       "      <th>2022-04-01</th>\n",
       "      <td>NaN</td>\n",
       "      <td>NaN</td>\n",
       "      <td>NaN</td>\n",
       "      <td>NaN</td>\n",
       "    </tr>\n",
       "    <tr>\n",
       "      <th>2022-05-01</th>\n",
       "      <td>11.82</td>\n",
       "      <td>0.03</td>\n",
       "      <td>5.59</td>\n",
       "      <td>6.20</td>\n",
       "    </tr>\n",
       "    <tr>\n",
       "      <th>2022-06-01</th>\n",
       "      <td>NaN</td>\n",
       "      <td>NaN</td>\n",
       "      <td>NaN</td>\n",
       "      <td>NaN</td>\n",
       "    </tr>\n",
       "    <tr>\n",
       "      <th>2022-07-01</th>\n",
       "      <td>NaN</td>\n",
       "      <td>NaN</td>\n",
       "      <td>NaN</td>\n",
       "      <td>NaN</td>\n",
       "    </tr>\n",
       "    <tr>\n",
       "      <th>2022-08-01</th>\n",
       "      <td>12.07</td>\n",
       "      <td>0.03</td>\n",
       "      <td>5.59</td>\n",
       "      <td>6.45</td>\n",
       "    </tr>\n",
       "  </tbody>\n",
       "</table>\n",
       "<p>96 rows × 4 columns</p>\n",
       "</div>"
      ],
      "text/plain": [
       "            Total-Score  E-Score  S-Score  G-Score\n",
       "Date                                              \n",
       "2014-09-01        80.00    86.00    79.00    72.00\n",
       "2014-10-01        78.00    86.00    79.00    72.00\n",
       "2014-11-01        80.00    86.00    79.00    72.00\n",
       "2014-12-01        80.00    86.00    79.00    72.00\n",
       "2015-01-01        80.00    86.00    79.00    72.00\n",
       "...                 ...      ...      ...      ...\n",
       "2022-04-01          NaN      NaN      NaN      NaN\n",
       "2022-05-01        11.82     0.03     5.59     6.20\n",
       "2022-06-01          NaN      NaN      NaN      NaN\n",
       "2022-07-01          NaN      NaN      NaN      NaN\n",
       "2022-08-01        12.07     0.03     5.59     6.45\n",
       "\n",
       "[96 rows x 4 columns]"
      ]
     },
     "execution_count": 140,
     "metadata": {},
     "output_type": "execute_result"
    }
   ],
   "source": [
    "ESG = yesg.get_historic_esg('CSCO')\n",
    "ESG"
   ]
  },
  {
   "cell_type": "code",
   "execution_count": 137,
   "id": "c99b77c5",
   "metadata": {},
   "outputs": [
    {
     "name": "stderr",
     "output_type": "stream",
     "text": [
      "UserWarning: Pandas doesn't allow columns to be created via a new attribute name - see https://pandas.pydata.org/pandas-docs/stable/indexing.html#attribute-access\n"
     ]
    },
    {
     "data": {
      "text/html": [
       "<div>\n",
       "<style scoped>\n",
       "    .dataframe tbody tr th:only-of-type {\n",
       "        vertical-align: middle;\n",
       "    }\n",
       "\n",
       "    .dataframe tbody tr th {\n",
       "        vertical-align: top;\n",
       "    }\n",
       "\n",
       "    .dataframe thead th {\n",
       "        text-align: right;\n",
       "    }\n",
       "</style>\n",
       "<table border=\"1\" class=\"dataframe\">\n",
       "  <thead>\n",
       "    <tr style=\"text-align: right;\">\n",
       "      <th></th>\n",
       "      <th>Total-Score</th>\n",
       "      <th>E-Score</th>\n",
       "      <th>S-Score</th>\n",
       "      <th>G-Score</th>\n",
       "    </tr>\n",
       "    <tr>\n",
       "      <th>Date</th>\n",
       "      <th></th>\n",
       "      <th></th>\n",
       "      <th></th>\n",
       "      <th></th>\n",
       "    </tr>\n",
       "  </thead>\n",
       "  <tbody>\n",
       "    <tr>\n",
       "      <th>2014-09-01</th>\n",
       "      <td>80.00</td>\n",
       "      <td>86.00</td>\n",
       "      <td>79.00</td>\n",
       "      <td>72.00</td>\n",
       "    </tr>\n",
       "    <tr>\n",
       "      <th>2014-10-01</th>\n",
       "      <td>78.00</td>\n",
       "      <td>86.00</td>\n",
       "      <td>79.00</td>\n",
       "      <td>72.00</td>\n",
       "    </tr>\n",
       "    <tr>\n",
       "      <th>2014-11-01</th>\n",
       "      <td>80.00</td>\n",
       "      <td>86.00</td>\n",
       "      <td>79.00</td>\n",
       "      <td>72.00</td>\n",
       "    </tr>\n",
       "    <tr>\n",
       "      <th>2014-12-01</th>\n",
       "      <td>80.00</td>\n",
       "      <td>86.00</td>\n",
       "      <td>79.00</td>\n",
       "      <td>72.00</td>\n",
       "    </tr>\n",
       "    <tr>\n",
       "      <th>2015-01-01</th>\n",
       "      <td>80.00</td>\n",
       "      <td>86.00</td>\n",
       "      <td>79.00</td>\n",
       "      <td>72.00</td>\n",
       "    </tr>\n",
       "    <tr>\n",
       "      <th>...</th>\n",
       "      <td>...</td>\n",
       "      <td>...</td>\n",
       "      <td>...</td>\n",
       "      <td>...</td>\n",
       "    </tr>\n",
       "    <tr>\n",
       "      <th>2021-05-01</th>\n",
       "      <td>12.45</td>\n",
       "      <td>0.54</td>\n",
       "      <td>5.84</td>\n",
       "      <td>6.08</td>\n",
       "    </tr>\n",
       "    <tr>\n",
       "      <th>2021-09-01</th>\n",
       "      <td>11.42</td>\n",
       "      <td>0.03</td>\n",
       "      <td>5.56</td>\n",
       "      <td>5.83</td>\n",
       "    </tr>\n",
       "    <tr>\n",
       "      <th>2022-02-01</th>\n",
       "      <td>11.83</td>\n",
       "      <td>0.03</td>\n",
       "      <td>5.59</td>\n",
       "      <td>6.21</td>\n",
       "    </tr>\n",
       "    <tr>\n",
       "      <th>2022-05-01</th>\n",
       "      <td>11.82</td>\n",
       "      <td>0.03</td>\n",
       "      <td>5.59</td>\n",
       "      <td>6.20</td>\n",
       "    </tr>\n",
       "    <tr>\n",
       "      <th>2022-08-01</th>\n",
       "      <td>12.07</td>\n",
       "      <td>0.03</td>\n",
       "      <td>5.59</td>\n",
       "      <td>6.45</td>\n",
       "    </tr>\n",
       "  </tbody>\n",
       "</table>\n",
       "<p>78 rows × 4 columns</p>\n",
       "</div>"
      ],
      "text/plain": [
       "            Total-Score  E-Score  S-Score  G-Score\n",
       "Date                                              \n",
       "2014-09-01        80.00    86.00    79.00    72.00\n",
       "2014-10-01        78.00    86.00    79.00    72.00\n",
       "2014-11-01        80.00    86.00    79.00    72.00\n",
       "2014-12-01        80.00    86.00    79.00    72.00\n",
       "2015-01-01        80.00    86.00    79.00    72.00\n",
       "...                 ...      ...      ...      ...\n",
       "2021-05-01        12.45     0.54     5.84     6.08\n",
       "2021-09-01        11.42     0.03     5.56     5.83\n",
       "2022-02-01        11.83     0.03     5.59     6.21\n",
       "2022-05-01        11.82     0.03     5.59     6.20\n",
       "2022-08-01        12.07     0.03     5.59     6.45\n",
       "\n",
       "[78 rows x 4 columns]"
      ]
     },
     "execution_count": 137,
     "metadata": {},
     "output_type": "execute_result"
    }
   ],
   "source": [
    "ESG.new = pd.DataFrame.dropna(ESG)\n",
    "ESG.new"
   ]
  },
  {
   "cell_type": "code",
   "execution_count": 185,
   "id": "57f3cc74",
   "metadata": {},
   "outputs": [
    {
     "data": {
      "image/png": "[encoded data removed]",
      "text/plain": [
       "<Figure size 1000x600 with 1 Axes>"
      ]
     },
     "metadata": {},
     "output_type": "display_data"
    }
   ],
   "source": [
    "import pandas as pd\n",
    "\n",
    "# Convert the index to datetime if it's not already\n",
    "ESG.index = pd.to_datetime(ESG.index)\n",
    "\n",
    "# Define start and end dates\n",
    "start_date = '2015-01-01'\n",
    "end_date = '2019-12-31'\n",
    "\n",
    "# Filter the DataFrame for the desired date range\n",
    "ESG_filtered = ESG.loc[start_date:end_date]\n",
    "\n",
    "# Now ESG_filtered contains the data between January 1, 2015, and December 31, 2019\n",
    "# You can now handle missing values and plot this data\n",
    "\n",
    "# Fill missing values using forward-fill method\n",
    "ESG_filled = ESG_filtered.fillna(method='ffill')\n",
    "\n",
    "# Plot the 'Total-Score' column\n",
    "import matplotlib.pyplot as plt\n",
    "\n",
    "plt.figure(figsize=(10, 6))\n",
    "plt.plot(ESG_filled.index, ESG_filled['Total-Score'], marker='o')\n",
    "plt.title('ESG Total Score for Cisco Systems Inc. (2015-2019)')\n",
    "plt.xlabel('Date')\n",
    "plt.ylabel('ESG Total Score')\n",
    "plt.grid(True)\n",
    "plt.show()"
   ]
  },
  {
   "cell_type": "code",
   "execution_count": 188,
   "id": "3d89cf5b",
   "metadata": {},
   "outputs": [
    {
     "name": "stdout",
     "output_type": "stream",
     "text": [
      "[*********************100%%**********************]  1 of 1 completed\n"
     ]
    }
   ],
   "source": [
    "# Download stock data for Cisco Systems Inc. (CSCO)\n",
    "csco_stock = yf.download('CSCO', start='2015-01-01', end='2019-12-31', interval='1mo')\n",
    "csco_stock = csco_stock.dropna()  # Remove any NaN rows\n"
   ]
  },
  {
   "cell_type": "code",
   "execution_count": 189,
   "id": "b5c218db",
   "metadata": {},
   "outputs": [
    {
     "name": "stdout",
     "output_type": "stream",
     "text": [
      "Index(['Total-Score', 'E-Score', 'S-Score', 'G-Score', 'LogRet'], dtype='object')\n",
      "Index(['Open', 'High', 'Low', 'Close', 'Adj Close', 'Volume'], dtype='object')\n"
     ]
    }
   ],
   "source": [
    "print(ESG.columns)\n",
    "# Print the column names of csco_stock DataFrame to verify\n",
    "print(csco_stock.columns)"
   ]
  },
  {
   "cell_type": "code",
   "execution_count": 190,
   "id": "e73ec842",
   "metadata": {},
   "outputs": [],
   "source": [
    "# Assuming 'Total-Score' is the column representing closing prices:\n",
    "ESG['LogRet'] = np.log(ESG['Total-Score'] / ESG['Total-Score'].shift(1))\n",
    "csco_stock['LogRet'] = np.log(csco_stock['Close'] / csco_stock['Close'].shift(1))"
   ]
  },
  {
   "cell_type": "code",
   "execution_count": 191,
   "id": "1a789e6b",
   "metadata": {},
   "outputs": [],
   "source": [
    "\n",
    "# Calculate the correlation between ESG and Cisco stock log returns\n",
    "correlation = ESG['LogRet'].corr(csco_stock['LogRet'])"
   ]
  },
  {
   "cell_type": "code",
   "execution_count": 192,
   "id": "f121c81f",
   "metadata": {},
   "outputs": [
    {
     "name": "stdout",
     "output_type": "stream",
     "text": [
      "The correlation between the log returns is: -0.09970490406630916\n"
     ]
    }
   ],
   "source": [
    "# Print the correlation result\n",
    "print(f\"The correlation between the log returns is: {correlation}\")"
   ]
  },
  {
   "cell_type": "code",
   "execution_count": 193,
   "id": "fe90029a",
   "metadata": {},
   "outputs": [],
   "source": [
    "import numpy as np\n",
    "from datetime import datetime\n",
    "import matplotlib.pyplot as plt\n",
    "from meteostat import Point, Daily"
   ]
  },
  {
   "cell_type": "code",
   "execution_count": 194,
   "id": "78294f50",
   "metadata": {},
   "outputs": [],
   "source": [
    "# QUESTION 2(CDD and HDD for BEIJING and JUNE)\n",
    "# For the Northern Hemisphere"
   ]
  },
  {
   "cell_type": "code",
   "execution_count": 195,
   "id": "3c589b1a",
   "metadata": {},
   "outputs": [],
   "source": [
    "start = datetime(2022, 4, 1)\n",
    "end = datetime(2022, 9, 30)"
   ]
  },
  {
   "cell_type": "code",
   "execution_count": 196,
   "id": "75faece4",
   "metadata": {},
   "outputs": [],
   "source": [
    "location = Point( 39.916668, 116.383331, 43.5)"
   ]
  },
  {
   "cell_type": "code",
   "execution_count": 207,
   "id": "c6c18602",
   "metadata": {},
   "outputs": [],
   "source": [
    "data = Daily(location, start, end)\n",
    "data = data.fetch()"
   ]
  },
  {
   "cell_type": "code",
   "execution_count": 208,
   "id": "3fbb4710",
   "metadata": {},
   "outputs": [],
   "source": [
    "#Calculating Cooling Degree Days (CDD)\n",
    "T_base = 18\n",
    "cdds = [max(temp - T_base, 0) for temp in data.tavg]"
   ]
  },
  {
   "cell_type": "code",
   "execution_count": 221,
   "id": "b2aa5d34",
   "metadata": {},
   "outputs": [],
   "source": [
    "# Function to calculate CDD and HDD\n",
    "def calculate_degree_days(location, year):\n",
    "    # Set the base temperature\n",
    "    T_base = 18\n",
    "    \n",
    "    # Define start and end dates for the warm period (CDD) and the cold period (HDD)\n",
    "    warm_start = datetime(2022, 4, 1)\n",
    "    warm_end = datetime(2022, 9, 30)\n",
    "    cold_start_1 = datetime(2022, 1, 1)\n",
    "    cold_end_1 = datetime(2022, 3, 31)\n",
    "    cold_start_2 = datetime(2022, 10, 1)\n",
    "    cold_end_2 = datetime(2022, 12, 31)\n",
    "    \n",
    "    # Fetch data for the warm period\n",
    "    data_warm = Daily(location, warm_start, warm_end)\n",
    "    data_warm = data_warm.fetch()\n",
    "    \n",
    "    # Fetch data for the cold period\n",
    "    data_cold_1 = Daily(location, cold_start_1, cold_end_1)\n",
    "    data_cold_1 = data_cold_1.fetch()\n",
    "    data_cold_2 = Daily(location, cold_start_2, cold_end_2)\n",
    "    data_cold_2 = data_cold_2.fetch()\n",
    "    \n",
    "\n",
    "    # Calculate CDD\n",
    "    cdds = [max(temp - T_base, 0) for temp in data_warm['tavg']]\n",
    "    total_cdd = np.sum(cdds)\n",
    "\n",
    "    # Calculate HDD for the first cold period\n",
    "    hdds_1 = [max(T_base - temp, 0) for temp in data_cold_1['tavg']]\n",
    "    total_hdd_1 = np.sum(hdds_1)\n",
    "\n",
    "    # Calculate HDD for the second cold period\n",
    "    hdds_2 = [max(T_base - temp, 0) for temp in data_cold_2['tavg']]\n",
    "    total_hdd_2 = np.sum(hdds_2)\n",
    "\n",
    "    return total_cdd, total_hdd_1, total_hdd_2\n",
    "    \n",
    "# Define the location using latitude, longitude, and altitude\n",
    "location = Point(39.916668, 116.383331, 43.5)\n",
    "\n",
    "# Calculate CDD and HDD for the year 2022\n",
    "cdd, hdd_jan_mar, hdd_oct_dec = calculate_degree_days(location, 2022)"
   ]
  },
  {
   "cell_type": "code",
   "execution_count": 223,
   "id": "6f2aa639",
   "metadata": {},
   "outputs": [
    {
     "name": "stdout",
     "output_type": "stream",
     "text": [
      "CDD for April to September is 1023.7999999999997\n",
      "HDD for January to March is 1524.6999999999998\n",
      "HDD for October to December is 1228.1999999999998\n"
     ]
    }
   ],
   "source": [
    "print(\"CDD for April to September is\", cdd)\n",
    "print(\"HDD for January to March is\", hdd_jan_mar)\n",
    "print(\"HDD for October to December is\", hdd_oct_dec)"
   ]
  },
  {
   "cell_type": "code",
   "execution_count": 217,
   "id": "14fc1486",
   "metadata": {},
   "outputs": [],
   "source": [
    "# QUESTION 3: Critical Analysis on Cryptocurrencies and Environment in word"
   ]
  },
  {
   "cell_type": "code",
   "execution_count": null,
   "id": "80ddd107",
   "metadata": {},
   "outputs": [],
   "source": []
  },
  {
   "cell_type": "code",
   "execution_count": null,
   "id": "38db4714",
   "metadata": {},
   "outputs": [],
   "source": []
  },
  {
   "cell_type": "code",
   "execution_count": null,
   "id": "e459b2bf",
   "metadata": {},
   "outputs": [],
   "source": []
  },
  {
   "cell_type": "code",
   "execution_count": null,
   "id": "b34bf050",
   "metadata": {},
   "outputs": [],
   "source": []
  },
  {
   "cell_type": "code",
   "execution_count": null,
   "id": "d53f5665",
   "metadata": {},
   "outputs": [],
   "source": []
  }
 ],
 "metadata": {
  "kernelspec": {
   "display_name": "Python 3 (ipykernel)",
   "language": "python",
   "name": "python3"
  },
  "language_info": {
   "codemirror_mode": {
    "name": "ipython",
    "version": 3
   },
   "file_extension": ".py",
   "mimetype": "text/x-python",
   "name": "python",
   "nbconvert_exporter": "python",
   "pygments_lexer": "ipython3",
   "version": "3.11.5"
  }
 },
 "nbformat": 4,
 "nbformat_minor": 5
}
